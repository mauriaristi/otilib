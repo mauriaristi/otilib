{
 "cells": [
  {
   "cell_type": "markdown",
   "metadata": {},
   "source": [
    "## `static` Tutorial 02: Computing derivatives.\n",
    "\n",
    "```\n",
    "Contributors:\n",
    "    Mauricio Aristizabal\n",
    "        University of Texas at San Antonio\n",
    "        Universidad EAFIT, Colombia.\n",
    "\n",
    "Date of creation:  Jun 20 2024\n",
    "Last modification: Jun 20 2024\n",
    "```\n",
    "\n",
    "### Introduction\n",
    "\n",
    "The main purpose of this document is to show how to compute derivatives of functions in python using the static 'Order truncated Imaginary' (OTI) module in ```pyoti```. Multiple examples are given in order to show and understand the capabilities of the library, as well as its basic advantages. For basic usage of the static module, see the ```static``` Tutorial 01.\n",
    "\n",
    "For this, first import the libraries required."
   ]
  },
  {
   "cell_type": "code",
   "execution_count": 1,
   "metadata": {
    "jupyter": {
     "outputs_hidden": false
    }
   },
   "outputs": [],
   "source": [
    "import pyoti.static.onumm2n2 as oti  # Import the library for m=2 and n=3\n",
    "import numpy as np"
   ]
  },
  {
   "cell_type": "markdown",
   "metadata": {},
   "source": [
    "### Derivatives of single-variable functions.\n",
    "\n",
    "In general, OTI numbers have a strong application in finding derivatives of functions. In this sense let's see some applications to obtain derivatives.\n",
    "\n",
    "Consider a $C^n$ function $f: \\mathbb{R} \\rightarrow \\mathbb{R}$, and it's Taylor series:\n",
    "\n",
    "$$\n",
    "f(z) = \\sum_{p=0}^{\\infty}    \\frac{1}{p!}\\frac{\\partial^p f}{\\partial x^p}(a)\\;(z-a)^p\n",
    "$$\n",
    "\n",
    "Let´s take, for convenience, $z=x_0+\\epsilon_1$ and $a=x_0$. Then the following is obtained:\n",
    "\n",
    "$$\n",
    "f(x_0+\\epsilon_1 ) = f(x_0) + \n",
    "\\displaystyle            \\frac{\\partial   f}{\\partial x  }(x_0)\\;{\\epsilon_1  } +\n",
    "\\displaystyle\\frac{1}{2!}\\frac{\\partial^2 f}{\\partial x^2}(x_0)\\;{\\epsilon_1^2} +\n",
    "\\displaystyle\\frac{1}{3!}\\frac{\\partial^3 f}{\\partial x^3}(x_0)\\;{\\epsilon_1^3} + ...\n",
    "$$\n",
    "\n",
    "Therefore, the result of evaluating a function at an OTI number in the form $x_0+\\epsilon_1$, is an OTI number that contains the derivatives of the function along its imaginary directions. Also note that the previous expansion will go until the truncation order set to the number $x_0+\\epsilon_1$. Therefore, the truncation order $n$ is set to the maximum order of derivative required to be computed. Also, typically, the notation for a perturbed variable is $x^* = x_0+\\epsilon_1$ \n",
    "\n",
    "Notice two things: (i) that the coefficient along the real part contains the function evaluated at $x_0$; and (ii) that one gets the $p$'th order derivative evaluated at $x_0$ multiplied by the factor $p!$ in the coefficient along the $p$'th order $\\epsilon_1$ direction. \n",
    "\n",
    "Therefore, to retrieve a derivative, one must extract the imaginary coefficient along the $\\epsilon_1^p$ direction and multiply (remove) the multiplication factor, i.e.\n",
    "\n",
    "$$\n",
    "\\begin{array}{c}\n",
    "    \\displaystyle\\frac{\\partial f}{\\partial x}(x_0) = \\mbox{Im}_{\\epsilon_1}\\left[f(x_0+\\epsilon_1)\\right]          \\\\\n",
    "    \\displaystyle\\frac{\\partial^2 f}{\\partial x^2}(x_0) = 2! \\mbox{Im}_{\\epsilon_1^2}\\left[f(x_0+\\epsilon_1)\\right] \\\\\n",
    "    \\displaystyle\\frac{\\partial^3 f}{\\partial x^3}(x_0) = 3! \\mbox{Im}_{\\epsilon_1^3}\\left[f(x_0+\\epsilon_1)\\right] \\\\\n",
    "\\end{array}\n",
    "$$\n",
    "\n",
    "and in general\n",
    "$$\n",
    "\\displaystyle\\frac{\\partial^p f}{\\partial x^p}(x_0) = p! \\mbox{Im}_{\\epsilon_1^p}\\left[f(x_0+\\epsilon_1)\\right]\n",
    "$$\n",
    "\n",
    "To apply this in a real example let's consider the following function:\n",
    "\n",
    "\n",
    "#### Example: Polynomial function\n",
    "\n",
    "Consider the following function:\n",
    "\n",
    "$$\n",
    "f(x)= 10x^5-3x^3+2x-10\n",
    "$$\n",
    "\n",
    "We will compute derivatives up to 5th order."
   ]
  },
  {
   "cell_type": "code",
   "execution_count": 2,
   "metadata": {
    "jupyter": {
     "outputs_hidden": true
    }
   },
   "outputs": [],
   "source": [
    "def funct_1(x):\n",
    "    return 10.0*x**5 -3.0*x**3+2.0*x-10.0"
   ]
  },
  {
   "cell_type": "markdown",
   "metadata": {},
   "source": [
    "The analytical defivatives of the funciton are:\n",
    "$$\n",
    "\\begin{array}{rcl}\n",
    "    \\displaystyle\\frac{\\partial   f}{\\partial x  }(x) &=& 50x^4-9x^2+2, \\\\ \n",
    "    \\displaystyle\\frac{\\partial^2 f}{\\partial x^2}(x) &=& 200x^3-18x,   \\\\ \n",
    "    \\displaystyle\\frac{\\partial^3 f}{\\partial x^3}(x) &=& 600x^2-18,    \\\\ \n",
    "\\end{array}\n",
    "$$\n",
    "\n",
    "\n",
    "Let's use this simple exampel and use OTIs to compute up-to 5th order derivatives of this polynomial. \n",
    "\n",
    "First, apply the perturbation to the variable $x$ along $\\epsilon_1$, $x^* = 2.5+\\epsilon_1$. Since want to obtain higher order terms, we need to redefine the order of the number. Therefore we will redefine it to order 5 (because we want to get  up to the fifth derivative)."
   ]
  },
  {
   "cell_type": "code",
   "execution_count": 3,
   "metadata": {
    "jupyter": {
     "outputs_hidden": false
    }
   },
   "outputs": [
    {
     "name": "stdout",
     "output_type": "stream",
     "text": [
      "Variable x:       2.5000 + 1.0000 * e([1]) + 0.0000 * e([2]) + 0.0000 * e([[1,2]]) + 0.0000 * e([1,2]) + 0.0000 * e([[2,2]])\n",
      "Truncation order: 2\n"
     ]
    }
   ],
   "source": [
    "x = 2.5\n",
    "x_star= x + oti.e(1)\n",
    "\n",
    "print(f'Variable x:       {x_star}')\n",
    "print(f'Truncation order: {x_star.order}')"
   ]
  },
  {
   "cell_type": "markdown",
   "metadata": {},
   "source": [
    "Now let's evaluate the function at $x^*$"
   ]
  },
  {
   "cell_type": "code",
   "execution_count": 4,
   "metadata": {
    "jupyter": {
     "outputs_hidden": false
    }
   },
   "outputs": [
    {
     "name": "stdout",
     "output_type": "stream",
     "text": [
      "924.6875 + 1898.8750 * e([1]) + 0.0000 * e([2]) + 1540.0000 * e([[1,2]]) + 0.0000 * e([1,2]) + 0.0000 * e([[2,2]])\n"
     ]
    }
   ],
   "source": [
    "result_1 = funct_1(x_star)\n",
    "print(result_1)"
   ]
  },
  {
   "cell_type": "markdown",
   "metadata": {},
   "source": [
    "Observe that the first two values correspond explicitly to the function and first derivative evaluated at $x_0=2.5$. Only the values along $\\epsilon_1$ or its multipls are non-zero. \n",
    "\n",
    "In order to retreive the values of the derivatives, the solution must take into account the following:\n",
    "$$\n",
    "\\mbox{result} = a_r + \n",
    "a_{\\epsilon_1}\\epsilon_1 + a_{\\epsilon_2}\\epsilon_2 +\n",
    "a_{\\epsilon_1^2}\\epsilon_1^2 + + a_{\\epsilon_1\\epsilon_2}\\epsilon_1\\epsilon_2 + a_{\\epsilon_2^2}\\epsilon_2^2\n",
    "$$\n",
    "\n",
    "and considering that \n",
    "\n",
    "$$\n",
    "f(x_0+\\epsilon_1,y_0+\\epsilon_2) = f(x_0,y_0) + \n",
    "\\displaystyle            \\frac{\\partial   f}{\\partial x  }(x_0,y_0){\\epsilon_1  } +\n",
    "\\displaystyle            \\frac{\\partial   f}{\\partial y  }(x_0,y_0){\\epsilon_2  } +\n",
    "\\displaystyle\\frac{1}{2!}\\frac{\\partial^2 f}{\\partial x^2}(x_0,y_0){\\epsilon_1^2} +\n",
    "\\displaystyle            \\frac{\\partial^2 f}{\\partial x\\partial y}(x_0,y_0){\\epsilon_1\\epsilon_2} +\n",
    "\\displaystyle\\frac{1}{2!}\\frac{\\partial^2 f}{\\partial y^2}(x_0,y_0){\\epsilon_2^2} +\n",
    "...\n",
    "$$\n",
    "\n",
    "then to retreive the derivatives, we most do the following:\n",
    "\n",
    "$$\n",
    "\\begin{array}{rcl}\n",
    "f(x_0) &=& a_r \\\\\n",
    "\\displaystyle \\frac{\\partial   f}{\\partial x  }(x_0,y_0)) &=&  a_{\\epsilon_1} \\\\\n",
    "\\displaystyle \\frac{\\partial   f}{\\partial y  }(x_0,y_0) &=&  a_{\\epsilon_2} \\\\\n",
    "\\displaystyle\\frac{\\partial^2 f}{\\partial x^2}(x_0,y_0)&=& a_{\\epsilon_1^2}\\;2! \\\\\n",
    "\\displaystyle\\frac{\\partial^2 f}{\\partial x\\partial y}(x_0,y_0)&=& a_{\\epsilon_1\\epsilon_2} \\\\\n",
    "\\displaystyle\\frac{\\partial^2 f}{\\partial y^2}(x_0,y_0)&=& a_{\\epsilon_2^2}\\;2! \\\\\n",
    "\\end{array}\n",
    "$$\n",
    "\n",
    "As a result, in order to evaluate the result, consider the following:"
   ]
  },
  {
   "cell_type": "code",
   "execution_count": 5,
   "metadata": {},
   "outputs": [],
   "source": [
    "f       = result_1.real\n",
    "f_x     = result_1.get_im([1])\n",
    "f_xx    = result_1.get_im([[1,2]]) * 2*1"
   ]
  },
  {
   "cell_type": "markdown",
   "metadata": {},
   "source": [
    "An easier way to do this is to use the method ```get_deriv(dirArray)```. This automatically applies the factorial factor to obtain the derivative."
   ]
  },
  {
   "cell_type": "code",
   "execution_count": 6,
   "metadata": {},
   "outputs": [
    {
     "name": "stdout",
     "output_type": "stream",
     "text": [
      "f_xx:\n",
      "3080.0 3080.0\n"
     ]
    }
   ],
   "source": [
    "print(\"f_xx:\")\n",
    "print(result_1.get_im([1,1]) * 2*1, # Using get_im and the factorial\n",
    "      result_1.get_deriv([1,1])     # Using just get_deriv.\n",
    "     )"
   ]
  },
  {
   "cell_type": "code",
   "execution_count": 7,
   "metadata": {
    "jupyter": {
     "outputs_hidden": false
    }
   },
   "outputs": [
    {
     "name": "stdout",
     "output_type": "stream",
     "text": [
      "Derivative |   pyoti  | analytical|\n",
      "-----------|----------|-----------|\n",
      "f          |  924.688 |   924.688 |\n",
      "f_x        |  1898.88 |   1898.88 |\n",
      "f_xx       |     3080 |      3080 |\n",
      "f_xxx      |        0 |      3732 |\n"
     ]
    }
   ],
   "source": [
    "# Getting the other derivatives\n",
    "f_xxx  = result_1.get_deriv([[1,3]])\n",
    "\n",
    "# Print results:\n",
    "print(f\"Derivative |   pyoti  | analytical|\")\n",
    "print(f\"-----------|----------|-----------|\")\n",
    "print(f\"f          | {f:8g} | {(10*x**5-3*x**3+2*x-10):9g} |\")\n",
    "print(f\"f_x        | {f_x:8g} | {(50*x**4-9*x**2+2):9g} |\")\n",
    "print(f\"f_xx       | {f_xx:8g} | {(200*x**3-18*x):9g} |\")    # \")#\n",
    "print(f\"f_xxx      | {f_xxx:8g} | {(600*x**2-18):9g} |\")\n"
   ]
  },
  {
   "cell_type": "markdown",
   "metadata": {},
   "source": [
    "###  Derivatives of multi variable functions\n",
    "\n",
    "A similar approach as in the single variable case applies to multivariable functions. If one considers a function $f: \\mathbb{R}^m \\rightarrow \\mathbb{R}$, then all its derivatives can be obtained by perturbing the input parameters along *independent* imaginary directions, as follows:\n",
    "\n",
    "$$\n",
    "\\begin{array}{rcl}\n",
    "    x_1^* &=& x_1 + \\epsilon_1\\\\\n",
    "    x_2^* &=& x_2 + \\epsilon_2\\\\\n",
    "    &\\vdots& \\\\\n",
    "    x_m^* &=& x_m + \\epsilon_m\\\\\n",
    "\\end{array}\n",
    "$$\n",
    "\n",
    "\n",
    "Then, the function is evaluated using the OTI function $f(x_1^*,x_2^*,...,x_m^*)$. The derivatives are obtained as follows \n",
    "\n",
    "$$\n",
    "\\frac{ \\partial^{p}f }{ \\partial x_1^{p_1} \\partial x_2^{p_2} ... \\partial x_m^{p_m} } = \n",
    "p_1!p_2! \\cdots p_m! \\; \\mbox{Im}_{\\epsilon_1^{p_1}\\epsilon_2^{p_2}\\cdots\\epsilon_m^{p_m}}\\left[f(x_1^*,x_2^*,...,x_m^*)\\right]\n",
    "$$\n",
    "\n",
    "where $p=\\sum_{i=1}^m p_i$\n",
    "\n",
    "For example, a two variable function up to order 2 derivatives gives:\n",
    "\n",
    "$$\n",
    "f(x_{1_0}+\\epsilon_1,x_{2_0}+\\epsilon_2) = \n",
    "f(x_{1_0},x_{2_0}) + \n",
    "\\frac{\\partial f }{ \\partial x_1}(x_{1_0},x_{2_0}) \\ \\epsilon_1 + \n",
    "\\frac{\\partial f }{ \\partial x_2}(x_{1_0},x_{2_0}) \\ \\epsilon_2 + \\\\\n",
    "\\frac{1}{2!}\\frac{\\partial^2 f }{ \\partial x_1^2}(x_{1_0},x_{2_0})  \\ \\epsilon_1^2 +\n",
    "\\frac{\\partial^2 f }{ \\partial x_1\\partial x_2}(x_{1_0},x_{2_0})  \\ \\epsilon_2\\epsilon_1 +\n",
    "\\frac{1}{2!}\\frac{\\partial^2 f }{ \\partial x_2^2}(x_{1_0},x_{2_0}) \\  \\epsilon_2^2 + \\cdots\n",
    "$$\n",
    "\n",
    "\n",
    "\n",
    "#### Example\n",
    "To apply this to a simple example, let's consider the function \n",
    "\n",
    "$$\n",
    "f(x,y) = cos( (x+2y-1)^2 )\n",
    "$$\n",
    "\n",
    "Let's define the function in the python environment:"
   ]
  },
  {
   "cell_type": "code",
   "execution_count": 8,
   "metadata": {
    "jupyter": {
     "outputs_hidden": true
    }
   },
   "outputs": [],
   "source": [
    "def funct_2(x,y):\n",
    "    return oti.cos( ( x + 2*y - 1 ) ** 2 )"
   ]
  },
  {
   "cell_type": "markdown",
   "metadata": {},
   "source": [
    "Analytically, let's define the derivatives of the function:\n",
    "$$\n",
    "f_x(x,y) = -2(x+2y-1)\\sin((x+2y-1)^2) , \\\\ \n",
    "f_y(x,y) = -4(x+2y-1)sin((x+2y-1)^2)\n",
    "$$\n",
    "\n",
    "Now, how do we retreive the function's first derivatives by just evaluating the function with OTI numbers? It's easy! \n",
    "\n",
    "According to the taylor series expansion of the function, we can retreive the function derivatives by evaluating the function at the point we want, say $(x_0,y_0)$ with a perturbation along OTI directions. In this case, the perturbation will occur as follows: $(x_0+\\epsilon_1,y_0+\\epsilon_2)$\n",
    "\n",
    "To get all the derivatives in a **single evaluation** of the function derivatives one most only evaluate the function into the OTI numbers. In this way, we define the point $(x_0=2,y_0=3)$ and we get:"
   ]
  },
  {
   "cell_type": "code",
   "execution_count": 9,
   "metadata": {
    "jupyter": {
     "outputs_hidden": true
    }
   },
   "outputs": [],
   "source": [
    "x=2.0 + oti.e(1)\n",
    "y=3.0 + oti.e(2)"
   ]
  },
  {
   "cell_type": "code",
   "execution_count": 10,
   "metadata": {
    "jupyter": {
     "outputs_hidden": false
    }
   },
   "outputs": [
    {
     "name": "stdout",
     "output_type": "stream",
     "text": [
      "0.3006 + 13.3525 * e([1]) + 26.7051 * e([2]) - 28.5043 * e([[1,2]]) - 114.0173 * e([1,2]) - 114.0173 * e([[2,2]])\n"
     ]
    }
   ],
   "source": [
    "result_2 = funct_2(x,y)\n",
    "print(result_2)"
   ]
  },
  {
   "cell_type": "markdown",
   "metadata": {},
   "source": [
    "All derivatives are now computed and lay in the coefficients of teh OTI number.\n",
    "\n",
    "Comparing against the analytical derivatives, the following results are obtained:"
   ]
  },
  {
   "cell_type": "code",
   "execution_count": 11,
   "metadata": {},
   "outputs": [
    {
     "name": "stdout",
     "output_type": "stream",
     "text": [
      " f(x,y): analytical: 0.30059254374363714\n",
      "              pyoti: 0.3005925437436371\n",
      "              Error: 5.551115123125783e-17\n"
     ]
    }
   ],
   "source": [
    "f_an = np.cos( ( x.real + 2*y.real - 1 ) ** 2 )\n",
    "print(f' f(x,y): analytical: {f_an}')\n",
    "print(f'              pyoti: {result_2.real}')\n",
    "print(f'              Error: {f_an-result_2.real}')"
   ]
  },
  {
   "cell_type": "markdown",
   "metadata": {},
   "source": [
    "The results of the first-order derivatives are as follows:"
   ]
  },
  {
   "cell_type": "code",
   "execution_count": 12,
   "metadata": {},
   "outputs": [
    {
     "name": "stdout",
     "output_type": "stream",
     "text": [
      " f_x(x,y): analytical: 13.352537138632607\n",
      "                pyoti: 13.352537138632606\n",
      "                Error: 1.7763568394002505e-15\n"
     ]
    }
   ],
   "source": [
    "f_x_an = -2*( x.real + 2*y.real - 1 ) * np.sin( ( x.real + 2*y.real - 1 ) ** 2 )\n",
    "print(f' f_x(x,y): analytical: {f_x_an}')\n",
    "print(f'                pyoti: {result_2.get_deriv([1])}')\n",
    "print(f'                Error: {f_x_an-result_2.get_deriv([1])}')"
   ]
  },
  {
   "cell_type": "code",
   "execution_count": 13,
   "metadata": {},
   "outputs": [
    {
     "name": "stdout",
     "output_type": "stream",
     "text": [
      " f_y(x,y): analytical: 26.705074277265215\n",
      "                pyoti: 26.70507427726521\n",
      "                Error: 3.552713678800501e-15\n"
     ]
    }
   ],
   "source": [
    "f_y_an = -4*( x.real + 2*y.real - 1 ) * np.sin( ( x.real + 2*y.real - 1 ) ** 2 )\n",
    "print(f' f_y(x,y): analytical: {f_y_an}')\n",
    "print(f'                pyoti: {result_2.get_deriv([2])}')\n",
    "print(f'                Error: {f_y_an-result_2.get_deriv([2])}')"
   ]
  },
  {
   "cell_type": "markdown",
   "metadata": {},
   "source": [
    "The seccond derivatives of the function are:\n",
    "$$\n",
    "f_{xx}(x,y) = -2\\sin((x+2y-1)^2)-4(x+2y-1)^2\\cos((x+2y-1)^2), \\\\\n",
    "f_{xy}(x,y) = -4\\sin((x+2y-1)^2)-8(x+2y-1)^2\\cos((x+2y-1)^2), \\\\\n",
    "f_{yy}(x,y) = -8\\sin((x+2y-1)^2)-16(x+2y-1)^2\\sin((x+2y-1)^2)\n",
    "$$\n"
   ]
  },
  {
   "cell_type": "code",
   "execution_count": 14,
   "metadata": {
    "jupyter": {
     "outputs_hidden": false
    }
   },
   "outputs": [
    {
     "name": "stdout",
     "output_type": "stream",
     "text": [
      " f_xx(x,y): analytical: -57.008633268233936\n",
      "                 pyoti: -57.00863326823392\n",
      "                 Error: -1.4210854715202004e-14\n"
     ]
    }
   ],
   "source": [
    "f_xx_an = -2*oti.sin((x.real+2*y.real-1)**2)-4*(x.real+2*y.real-1)**2*np.cos((x.real+2*y.real-1)**2)\n",
    "print(f' f_xx(x,y): analytical: {f_xx_an}')\n",
    "print(f'                 pyoti: {result_2.get_deriv([1,1])}')\n",
    "print(f'                 Error: {f_xx_an-result_2.get_deriv([1,1])}')"
   ]
  },
  {
   "cell_type": "code",
   "execution_count": 15,
   "metadata": {},
   "outputs": [
    {
     "name": "stdout",
     "output_type": "stream",
     "text": [
      " f_xy(x,y): analytical: -114.01726653646787\n",
      "                 pyoti: -114.01726653646784\n",
      "                 Error: -2.842170943040401e-14\n"
     ]
    }
   ],
   "source": [
    "f_xy_an = -4*oti.sin((x.real+2*y.real-1)**2)-8*(x.real+2*y.real-1)**2*np.cos((x.real+2*y.real-1)**2)\n",
    "print(f' f_xy(x,y): analytical: {f_xy_an}')\n",
    "print(f'                 pyoti: {result_2.get_deriv([1,2])}')\n",
    "print(f'                 Error: {f_xy_an-result_2.get_deriv([1,2])}')"
   ]
  },
  {
   "cell_type": "code",
   "execution_count": 16,
   "metadata": {},
   "outputs": [
    {
     "name": "stdout",
     "output_type": "stream",
     "text": [
      " f_yy(x,y): analytical: -228.03453307293574\n",
      "                 pyoti: -228.0345330729357\n",
      "                 Error: -5.684341886080802e-14\n"
     ]
    }
   ],
   "source": [
    "f_yy_an = -8*oti.sin((x.real+2*y.real-1)**2)-16*(x.real+2*y.real-1)**2*np.cos((x.real+2*y.real-1)**2)\n",
    "print(f' f_yy(x,y): analytical: {f_yy_an}')\n",
    "print(f'                 pyoti: {result_2.get_deriv([2,2])}')\n",
    "print(f'                 Error: {f_yy_an-result_2.get_deriv([2,2])}')"
   ]
  }
 ],
 "metadata": {
  "kernelspec": {
   "display_name": "pyoti",
   "language": "python",
   "name": "pyoti"
  },
  "language_info": {
   "codemirror_mode": {
    "name": "ipython",
    "version": 3
   },
   "file_extension": ".py",
   "mimetype": "text/x-python",
   "name": "python",
   "nbconvert_exporter": "python",
   "pygments_lexer": "ipython3",
   "version": "3.9.13"
  }
 },
 "nbformat": 4,
 "nbformat_minor": 4
}
