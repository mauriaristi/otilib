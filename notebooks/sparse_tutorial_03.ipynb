{
 "cells": [
  {
   "cell_type": "markdown",
   "metadata": {},
   "source": [
    "## `sparse` Tutorial 03: Linear algebra support.\n",
    "\n",
    "```\n",
    "Contributors:\n",
    "    Mauricio Aristizabal\n",
    "        University of Texas at San Antonio\n",
    "        Universidad EAFIT, Colombia.\n",
    "\n",
    "Date of creation:  Jun 19 2024\n",
    "Last modification: Jun 19 2024\n",
    "```\n",
    "\n",
    "### Introduction\n",
    "\n",
    "The main purpose of the Order Truncated Imaginary (OTI) numbers was to provide an efficient method for computing arbitrary-order derivatives in Finite Element applications. Finite Element analysis is highly dependent on linear algbera operations, thus it was fundamental to develop an efficient interface to linear algebra, including vector and matrix operations. \n",
    "\n",
    "This document shows applications of `pyoti` for the computation of linear-algebra related operations.\n",
    "\n",
    "For this, first import the libraries required."
   ]
  },
  {
   "cell_type": "code",
   "execution_count": 1,
   "metadata": {
    "jupyter": {
     "outputs_hidden": false
    }
   },
   "outputs": [],
   "source": [
    "import pyoti.sparse as oti  # Import the library.\n",
    "import numpy as np"
   ]
  },
  {
   "cell_type": "markdown",
   "metadata": {},
   "source": [
    "### Array class.\n",
    "\n",
    "The support for linear algebra operations is provided by the definition of an array class. The array class is named 'MATrix of Sparse Otis' `matso`. As its name suggest, its fundamental mode of operation is as a matrix element. Thus this class always consider the behavior as a rank-2 array.\n",
    "\n",
    "Although this class has its own constructor, `pyoti` provides a numpy-like array creation functions that allow an easy migration to the new class.\n",
    "\n",
    "An array that can hold an OTI number can be created in multiple ways. Here will be discussed a few of them.\n",
    "\n",
    "#### Filled constructors\n",
    "\n",
    "An array can be created using equivalent `zeros` or `ones` function, like with numpy. For instance, creating a 2x2 array of zeroes is created using the function `zeros(shape,**kwargs)`, with shape being an integer or a list with up-to 2 elements defining the shape of the array."
   ]
  },
  {
   "cell_type": "code",
   "execution_count": 2,
   "metadata": {
    "jupyter": {
     "outputs_hidden": true
    }
   },
   "outputs": [
    {
     "name": "stdout",
     "output_type": "stream",
     "text": [
      "matso< shape: (2, 2), \n",
      " - Column 0\n",
      "(0,0) 0\n",
      "(1,0) 0\n",
      " - Column 1\n",
      "(0,1) 0\n",
      "(1,1) 0\n",
      ">\n"
     ]
    }
   ],
   "source": [
    "X = oti.zeros((2,2))\n",
    "print(X)"
   ]
  },
  {
   "cell_type": "markdown",
   "metadata": {},
   "source": [
    "Remarks:\n",
    "\n",
    "- The number of dimensions of a matso is always 2.\n",
    "- Printing a matso array gives  its shape and the contents are listed by columns.\n",
    "- It may be more convenient to print only the real part of the matso array. The real part can be extracted with the \"attribute\" `real`. This returns a numpy array with the real coefficients of the matso array.\n"
   ]
  },
  {
   "cell_type": "code",
   "execution_count": 3,
   "metadata": {
    "jupyter": {
     "outputs_hidden": false
    }
   },
   "outputs": [
    {
     "name": "stdout",
     "output_type": "stream",
     "text": [
      "[[0. 0.]\n",
      " [0. 0.]]\n",
      "<class 'numpy.ndarray'>\n"
     ]
    }
   ],
   "source": [
    "print(X.real)\n",
    "print(type(X.real))"
   ]
  },
  {
   "cell_type": "markdown",
   "metadata": {},
   "source": [
    "Other constructors are shown below:\n",
    "\n",
    "#### Ones constructor:"
   ]
  },
  {
   "cell_type": "code",
   "execution_count": 4,
   "metadata": {
    "jupyter": {
     "outputs_hidden": false
    }
   },
   "outputs": [
    {
     "name": "stdout",
     "output_type": "stream",
     "text": [
      "\"ones\" constructor:\n",
      "[[1. 1. 1.]\n",
      " [1. 1. 1.]]\n"
     ]
    }
   ],
   "source": [
    "print('\"ones\" constructor:')\n",
    "print( oti.ones( ( 2, 3 ) ).real )"
   ]
  },
  {
   "cell_type": "markdown",
   "metadata": {},
   "source": [
    "#### Identity matrix (eye)"
   ]
  },
  {
   "cell_type": "code",
   "execution_count": 5,
   "metadata": {},
   "outputs": [
    {
     "name": "stdout",
     "output_type": "stream",
     "text": [
      "\"eye\" constructor:\n",
      "[[1. 0.]\n",
      " [0. 1.]]\n"
     ]
    }
   ],
   "source": [
    "print('\"eye\" constructor:')\n",
    "print( oti.eye( 2 ).real  )"
   ]
  },
  {
   "cell_type": "markdown",
   "metadata": {},
   "source": [
    "#### Array constructor\n",
    "\n",
    "Similar to numpy, pyoti has an array function that allows to create arrays from lists, numpy arrays, and other oti arrays. The ```array( val, )``` is used for this matter, as follows:\n",
    "\n",
    "##### Array from list\n"
   ]
  },
  {
   "cell_type": "code",
   "execution_count": 6,
   "metadata": {},
   "outputs": [
    {
     "data": {
      "text/plain": [
       "matso< shape: (2, 3), \n",
       " - Column 0\n",
       "(0,0) 1\n",
       "(1,0) 4\n",
       " - Column 1\n",
       "(0,1) 2\n",
       "(1,1) 5\n",
       " - Column 2\n",
       "(0,2) 3\n",
       "(1,2) 6\n",
       ">"
      ]
     },
     "execution_count": 6,
     "metadata": {},
     "output_type": "execute_result"
    }
   ],
   "source": [
    "Y = oti.array([[1,2,3],\n",
    "               [4,5,6]])\n",
    "Y"
   ]
  },
  {
   "cell_type": "markdown",
   "metadata": {},
   "source": [
    "List items can also contain OTI scalars:"
   ]
  },
  {
   "cell_type": "code",
   "execution_count": 7,
   "metadata": {},
   "outputs": [
    {
     "data": {
      "text/plain": [
       "matso< shape: (2, 3), \n",
       " - Column 0\n",
       "(0,0) 1 + 1 * e([1])\n",
       "(1,0) 4 + 1 * e([2])\n",
       " - Column 1\n",
       "(0,1) 2\n",
       "(1,1) 5\n",
       " - Column 2\n",
       "(0,2) 3 + 1 * e([3])\n",
       "(1,2) 6\n",
       ">"
      ]
     },
     "execution_count": 7,
     "metadata": {},
     "output_type": "execute_result"
    }
   ],
   "source": [
    "Z = oti.array([[1+oti.e(1),2,3+oti.e(3)],\n",
    "               [4+oti.e(2),5,6         ]])\n",
    "Z"
   ]
  },
  {
   "cell_type": "markdown",
   "metadata": {},
   "source": [
    "Numpy arrays can also be used to construct the OTI array."
   ]
  },
  {
   "cell_type": "code",
   "execution_count": 8,
   "metadata": {},
   "outputs": [
    {
     "name": "stdout",
     "output_type": "stream",
     "text": [
      "[[ 0  2]\n",
      " [ 4  6]\n",
      " [ 8 10]\n",
      " [12 14]\n",
      " [16 18]]\n"
     ]
    },
    {
     "data": {
      "text/plain": [
       "matso< shape: (5, 2), \n",
       " - Column 0\n",
       "(0,0) 0\n",
       "(1,0) 4\n",
       "(2,0) 8\n",
       "(3,0) 12\n",
       "(4,0) 16\n",
       " - Column 1\n",
       "(0,1) 2\n",
       "(1,1) 6\n",
       "(2,1) 10\n",
       "(3,1) 14\n",
       "(4,1) 18\n",
       ">"
      ]
     },
     "execution_count": 8,
     "metadata": {},
     "output_type": "execute_result"
    }
   ],
   "source": [
    "npArray =  np.arange(0,20,2).reshape((5,-1))\n",
    "print(npArray)\n",
    "\n",
    "W = oti.array( npArray  )\n",
    "W"
   ]
  },
  {
   "cell_type": "markdown",
   "metadata": {},
   "source": [
    "### Getter, setters and slicing operations\n",
    "\n",
    "Getting and setting elements in OTI arrays work similar to numpy arrays and lists. use the getter setter as follows\n",
    "\n",
    "**Note**: All OTI arrays are rank-2 arrays: Thus, accessing individual elements must be done using two-indices. Indices are zero-based.\n",
    "\n",
    "#### Setting an individual item for an OTI array:\n",
    "\n",
    "An Considering an OTI matrix $X^*\\in\\mathbb{OTI}^{ n_r \\times n_c }$, where  $n_r$ and $n_c$ correspond to number of rows and number of columns of the matrix, an item $x_{ij}^*$ is set as ```X[i,j]=x_ij```. \n",
    "\n",
    "\n",
    "For example, consider the matrix $X^*\\in\\mathbb{OTI}^{ 2 \\times 2 }$, defined as follows:\n",
    "\n",
    "$$\n",
    "X^* =\n",
    "\\begin{bmatrix}\n",
    "   0 & 1.5+\\epsilon_2 \\\\\n",
    "   2.5+\\epsilon_1 & 0\n",
    "\\end{bmatrix}\n",
    "$$\n",
    "This matrix can be created by "
   ]
  },
  {
   "cell_type": "code",
   "execution_count": 9,
   "metadata": {},
   "outputs": [
    {
     "data": {
      "text/plain": [
       "matso< shape: (2, 2), \n",
       " - Column 0\n",
       "(0,0) 0\n",
       "(1,0) 2.5 + 1 * e([1])\n",
       " - Column 1\n",
       "(0,1) 1.5 + 1 * e([1])\n",
       "(1,1) 0\n",
       ">"
      ]
     },
     "execution_count": 9,
     "metadata": {},
     "output_type": "execute_result"
    }
   ],
   "source": [
    "# Define zeros.\n",
    "X = oti.zeros((2,2))\n",
    "\n",
    "# Assign non-zeros.\n",
    "X[0,1] = 1.5+oti.e(1)\n",
    "X[1,0] = 2.5+oti.e(1)\n",
    "\n",
    "X"
   ]
  },
  {
   "cell_type": "markdown",
   "metadata": {},
   "source": [
    "#### Slicing\n",
    "\n",
    "Slicing uses the same notation as in numpy arrays."
   ]
  },
  {
   "cell_type": "code",
   "execution_count": 10,
   "metadata": {},
   "outputs": [
    {
     "data": {
      "text/plain": [
       "matso< shape: (1, 2), \n",
       " - Column 0\n",
       "(0,0) 0\n",
       " - Column 1\n",
       "(0,1) 1.5 + 1 * e([1])\n",
       ">"
      ]
     },
     "execution_count": 10,
     "metadata": {},
     "output_type": "execute_result"
    }
   ],
   "source": [
    "X[0,:]"
   ]
  },
  {
   "cell_type": "markdown",
   "metadata": {},
   "source": [
    "### Scalar operations\n",
    "\n",
    "Scalar operations with OTI arrays are supported. This means that OTI arrays support addition/subtraction/multiplication and division with OTI scalars. The opration is simply propagated elementwise."
   ]
  },
  {
   "cell_type": "code",
   "execution_count": 11,
   "metadata": {},
   "outputs": [
    {
     "data": {
      "text/plain": [
       "matso< shape: (2, 2), \n",
       " - Column 0\n",
       "(0,0) 0\n",
       "(1,0) 5 + 2 * e([1])\n",
       " - Column 1\n",
       "(0,1) 3 + 2 * e([1])\n",
       "(1,1) 0\n",
       ">"
      ]
     },
     "execution_count": 11,
     "metadata": {},
     "output_type": "execute_result"
    }
   ],
   "source": [
    "2*X"
   ]
  },
  {
   "cell_type": "code",
   "execution_count": 12,
   "metadata": {},
   "outputs": [
    {
     "data": {
      "text/plain": [
       "matso< shape: (2, 2), \n",
       " - Column 0\n",
       "(0,0)  + 1 * e([2])\n",
       "(1,0) 2.5 + 1 * e([1]) + 1 * e([2])\n",
       " - Column 1\n",
       "(0,1) 1.5 + 1 * e([1]) + 1 * e([2])\n",
       "(1,1)  + 1 * e([2])\n",
       ">"
      ]
     },
     "execution_count": 12,
     "metadata": {},
     "output_type": "execute_result"
    }
   ],
   "source": [
    "X + oti.e(2)"
   ]
  },
  {
   "cell_type": "markdown",
   "metadata": {},
   "source": [
    "### Vectorized evaluations\n",
    "\n",
    "Similar to numpy arrays, OTI arrays allow elementwise operations. The way this works is that the operation, say a function evaluation, is performed elementwise."
   ]
  },
  {
   "cell_type": "code",
   "execution_count": 13,
   "metadata": {},
   "outputs": [
    {
     "data": {
      "text/plain": [
       "matso< shape: (2, 2), \n",
       " - Column 0\n",
       "(0,0) 1\n",
       "(1,0) -0.801144 - 0.598472 * e([1])\n",
       " - Column 1\n",
       "(0,1) 0.0707372 - 0.997495 * e([1])\n",
       "(1,1) 1\n",
       ">"
      ]
     },
     "execution_count": 13,
     "metadata": {},
     "output_type": "execute_result"
    }
   ],
   "source": [
    "oti.cos(X)"
   ]
  },
  {
   "cell_type": "markdown",
   "metadata": {},
   "source": [
    "### Linear algebra operations\n",
    "\n",
    "\n",
    "#### Matrix matrix multiplication"
   ]
  },
  {
   "cell_type": "code",
   "execution_count": 14,
   "metadata": {},
   "outputs": [
    {
     "data": {
      "text/plain": [
       "matso< shape: (2, 3), \n",
       " - Column 0\n",
       "(0,0) 0.01\n",
       "(1,0) -3.8\n",
       " - Column 1\n",
       "(0,1) 21.6\n",
       "(1,1) -13.44\n",
       " - Column 2\n",
       "(0,2) 30.99\n",
       "(1,2) 3.48\n",
       ">"
      ]
     },
     "execution_count": 14,
     "metadata": {},
     "output_type": "execute_result"
    }
   ],
   "source": [
    "X = oti.array([[ 4.5, 2.8],\n",
    "               [-2.8, 3.0]])\n",
    "\n",
    "Y = oti.array([[ 0.5, 4.8, 3.9 ],\n",
    "               [-0.8, 0.0, 4.8 ] ])\n",
    " \n",
    "oti.dot(X,Y)"
   ]
  }
 ],
 "metadata": {
  "kernelspec": {
   "display_name": "pyoti",
   "language": "python",
   "name": "pyoti"
  },
  "language_info": {
   "codemirror_mode": {
    "name": "ipython",
    "version": 3
   },
   "file_extension": ".py",
   "mimetype": "text/x-python",
   "name": "python",
   "nbconvert_exporter": "python",
   "pygments_lexer": "ipython3",
   "version": "3.9.13"
  }
 },
 "nbformat": 4,
 "nbformat_minor": 4
}
